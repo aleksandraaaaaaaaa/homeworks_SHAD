{
 "cells": [
  {
   "cell_type": "markdown",
   "id": "047674ee",
   "metadata": {},
   "source": [
    "# Домашняя работа "
   ]
  },
  {
   "cell_type": "markdown",
   "id": "d8461109",
   "metadata": {},
   "source": [
    "В этой работы мы будем учиться предсказывать зарплату data scientist-ов в зависимочти от ряда факторов с помощью градиентоного бустинга"
   ]
  },
  {
   "cell_type": "markdown",
   "id": "7a2ab23d",
   "metadata": {},
   "source": [
    "Цель домашней работы научиться предсказывать зарплаты (salary_in_usd) по ряды факторов "
   ]
  },
  {
   "cell_type": "markdown",
   "id": "1651e8dd",
   "metadata": {},
   "source": [
    "work_year: The number of years of work experience in the field of data science.\n",
    "\n",
    "experience_level: The level of experience, such as Junior, Senior, or Lead.\n",
    "\n",
    "employment_type: The type of employment, such as Full-time or Contract.\n",
    "\n",
    "job_title: The specific job title or role, such as Data Analyst or Data Scientist.\n",
    "\n",
    "salary: The salary amount for the given job.\n",
    "\n",
    "salary_currency: The currency in which the salary is denoted.\n",
    "\n",
    "salary_in_usd: The equivalent salary amount converted to US dollars (USD) for comparison purposes.\n",
    "\n",
    "employee_residence: The country or region where the employee resides.\n",
    "\n",
    "remote_ratio: The percentage of remote work offered in the job.\n",
    "\n",
    "company_location: The location of the company or organization.\n",
    "\n",
    "company_size: The company’s size is categorized as Small, Medium, or Large."
   ]
  },
  {
   "cell_type": "code",
   "execution_count": 1,
   "id": "dbf7595c",
   "metadata": {},
   "outputs": [],
   "source": [
    "import pandas as pd\n",
    "import numpy as np\n",
    "\n",
    "from sklearn.model_selection import train_test_split\n",
    "from sklearn. preprocessing import OneHotEncoder\n",
    "from sklearn. preprocessing import LabelEncoder\n",
    "from sklearn.preprocessing import TargetEncoder\n",
    "from sklearn.model_selection import GridSearchCV\n",
    "\n",
    "from sklearn.linear_model import LinearRegression\n",
    "\n",
    "from sklearn.metrics import mean_squared_error\n",
    "from sklearn.metrics import mean_absolute_percentage_error\n",
    "\n",
    "import catboost\n",
    "from catboost import CatBoostRegressor\n",
    "\n",
    "import xgboost\n",
    "from xgboost.sklearn import XGBRegressor\n",
    "\n",
    "import lightgbm as lgb\n",
    "from lightgbm.sklearn import LGBMRegressor\n",
    "\n",
    "import shap"
   ]
  },
  {
   "cell_type": "code",
   "execution_count": 2,
   "id": "792d14c9",
   "metadata": {},
   "outputs": [],
   "source": [
    "df = pd.read_csv(\"ds_salaries.csv\")"
   ]
  },
  {
   "cell_type": "code",
   "execution_count": 3,
   "id": "1758b0e0",
   "metadata": {},
   "outputs": [
    {
     "data": {
      "text/html": [
       "<div>\n",
       "<style scoped>\n",
       "    .dataframe tbody tr th:only-of-type {\n",
       "        vertical-align: middle;\n",
       "    }\n",
       "\n",
       "    .dataframe tbody tr th {\n",
       "        vertical-align: top;\n",
       "    }\n",
       "\n",
       "    .dataframe thead th {\n",
       "        text-align: right;\n",
       "    }\n",
       "</style>\n",
       "<table border=\"1\" class=\"dataframe\">\n",
       "  <thead>\n",
       "    <tr style=\"text-align: right;\">\n",
       "      <th></th>\n",
       "      <th>work_year</th>\n",
       "      <th>experience_level</th>\n",
       "      <th>employment_type</th>\n",
       "      <th>job_title</th>\n",
       "      <th>salary</th>\n",
       "      <th>salary_currency</th>\n",
       "      <th>salary_in_usd</th>\n",
       "      <th>employee_residence</th>\n",
       "      <th>remote_ratio</th>\n",
       "      <th>company_location</th>\n",
       "      <th>company_size</th>\n",
       "    </tr>\n",
       "  </thead>\n",
       "  <tbody>\n",
       "    <tr>\n",
       "      <th>0</th>\n",
       "      <td>2023</td>\n",
       "      <td>SE</td>\n",
       "      <td>FT</td>\n",
       "      <td>Principal Data Scientist</td>\n",
       "      <td>80000</td>\n",
       "      <td>EUR</td>\n",
       "      <td>85847</td>\n",
       "      <td>ES</td>\n",
       "      <td>100</td>\n",
       "      <td>ES</td>\n",
       "      <td>L</td>\n",
       "    </tr>\n",
       "    <tr>\n",
       "      <th>1</th>\n",
       "      <td>2023</td>\n",
       "      <td>MI</td>\n",
       "      <td>CT</td>\n",
       "      <td>ML Engineer</td>\n",
       "      <td>30000</td>\n",
       "      <td>USD</td>\n",
       "      <td>30000</td>\n",
       "      <td>US</td>\n",
       "      <td>100</td>\n",
       "      <td>US</td>\n",
       "      <td>S</td>\n",
       "    </tr>\n",
       "    <tr>\n",
       "      <th>2</th>\n",
       "      <td>2023</td>\n",
       "      <td>MI</td>\n",
       "      <td>CT</td>\n",
       "      <td>ML Engineer</td>\n",
       "      <td>25500</td>\n",
       "      <td>USD</td>\n",
       "      <td>25500</td>\n",
       "      <td>US</td>\n",
       "      <td>100</td>\n",
       "      <td>US</td>\n",
       "      <td>S</td>\n",
       "    </tr>\n",
       "    <tr>\n",
       "      <th>3</th>\n",
       "      <td>2023</td>\n",
       "      <td>SE</td>\n",
       "      <td>FT</td>\n",
       "      <td>Data Scientist</td>\n",
       "      <td>175000</td>\n",
       "      <td>USD</td>\n",
       "      <td>175000</td>\n",
       "      <td>CA</td>\n",
       "      <td>100</td>\n",
       "      <td>CA</td>\n",
       "      <td>M</td>\n",
       "    </tr>\n",
       "    <tr>\n",
       "      <th>4</th>\n",
       "      <td>2023</td>\n",
       "      <td>SE</td>\n",
       "      <td>FT</td>\n",
       "      <td>Data Scientist</td>\n",
       "      <td>120000</td>\n",
       "      <td>USD</td>\n",
       "      <td>120000</td>\n",
       "      <td>CA</td>\n",
       "      <td>100</td>\n",
       "      <td>CA</td>\n",
       "      <td>M</td>\n",
       "    </tr>\n",
       "  </tbody>\n",
       "</table>\n",
       "</div>"
      ],
      "text/plain": [
       "   work_year experience_level employment_type                 job_title  \\\n",
       "0       2023               SE              FT  Principal Data Scientist   \n",
       "1       2023               MI              CT               ML Engineer   \n",
       "2       2023               MI              CT               ML Engineer   \n",
       "3       2023               SE              FT            Data Scientist   \n",
       "4       2023               SE              FT            Data Scientist   \n",
       "\n",
       "   salary salary_currency  salary_in_usd employee_residence  remote_ratio  \\\n",
       "0   80000             EUR          85847                 ES           100   \n",
       "1   30000             USD          30000                 US           100   \n",
       "2   25500             USD          25500                 US           100   \n",
       "3  175000             USD         175000                 CA           100   \n",
       "4  120000             USD         120000                 CA           100   \n",
       "\n",
       "  company_location company_size  \n",
       "0               ES            L  \n",
       "1               US            S  \n",
       "2               US            S  \n",
       "3               CA            M  \n",
       "4               CA            M  "
      ]
     },
     "execution_count": 3,
     "metadata": {},
     "output_type": "execute_result"
    }
   ],
   "source": [
    "df.head()"
   ]
  },
  {
   "cell_type": "markdown",
   "id": "6696e77a",
   "metadata": {},
   "source": [
    "## Задание 1 (0.2 балла)"
   ]
  },
  {
   "cell_type": "markdown",
   "id": "0cb13dc7",
   "metadata": {},
   "source": [
    "Разделите выборку на train, val, test (80%, 10%, 10%) в качестве таргета выберите salary_in_usd, удалите из признаков (salary) чтобы избежать лика в данных."
   ]
  },
  {
   "cell_type": "code",
   "execution_count": 4,
   "id": "0a8a8552",
   "metadata": {},
   "outputs": [],
   "source": [
    "y = df[\"salary_in_usd\"]\n",
    "X = df.drop([\"salary_in_usd\", \"salary\"], axis=1)\n",
    "X, X_test, y, y_test = train_test_split(X, y, test_size=0.1, random_state=42)\n",
    "X_train, X_val, y_train, y_val = train_test_split(X, y, test_size=0.12, random_state=42)"
   ]
  },
  {
   "cell_type": "code",
   "execution_count": 5,
   "id": "716d2292",
   "metadata": {},
   "outputs": [
    {
     "name": "stdout",
     "output_type": "stream",
     "text": [
      "[0.79174434 0.1081225  0.10013316]\n"
     ]
    }
   ],
   "source": [
    "print(np.array([X_train.size, X_val.size, X_test.size])/np.sum(np.array([X_train.size, X_val.size, X_test.size])))"
   ]
  },
  {
   "cell_type": "markdown",
   "id": "f63cb01a",
   "metadata": {},
   "source": [
    "## Задание 2 (0.3 балла)"
   ]
  },
  {
   "cell_type": "markdown",
   "id": "647a5cad",
   "metadata": {},
   "source": [
    "Обучите модель линейной регресии и оцените её качество через mape и rmse"
   ]
  },
  {
   "cell_type": "code",
   "execution_count": 6,
   "id": "269406f3",
   "metadata": {},
   "outputs": [],
   "source": [
    "cat = [\"experience_level\", \"employment_type\", \"job_title\", \"salary_currency\", \"employee_residence\", \n",
    "                        \"company_location\", \"company_size\"]\n",
    "ohe = OneHotEncoder(handle_unknown='ignore')\n",
    "feat = pd.DataFrame(ohe.fit_transform(X[cat]).toarray(), columns=ohe.get_feature_names_out())\n",
    "X_ohe = X.copy()\n",
    "X_ohe = X_ohe.drop(cat, axis=1)\n",
    "X_ohe.reset_index(drop=True, inplace=True)\n",
    "feat.reset_index(drop=True, inplace=True)\n",
    "X_ohe = pd.concat([X_ohe, feat], axis=1)\n",
    "feat = pd.DataFrame(ohe.transform(X_test[cat]).toarray(), columns=ohe.get_feature_names_out())\n",
    "X0 = X_test.drop(cat, axis=1)\n",
    "X0.reset_index(drop=True, inplace=True)\n",
    "feat.reset_index(drop=True, inplace=True)\n",
    "X_test_ohe = pd.concat([X0, feat], axis=1)"
   ]
  },
  {
   "cell_type": "code",
   "execution_count": 7,
   "id": "4e4af41c",
   "metadata": {},
   "outputs": [],
   "source": [
    "cat = [\"experience_level\", \"employment_type\", \"job_title\", \"salary_currency\", \"employee_residence\", \n",
    "                        \"company_location\", \"company_size\"]\n",
    "le = LabelEncoder()\n",
    "X_le = X.copy()\n",
    "X_test_le = X_test.copy()\n",
    "for i in cat:\n",
    "     X_le[i] = le.fit_transform(X[i])\n",
    "     X_test_le[i] = le.fit_transform(X_test[i])"
   ]
  },
  {
   "cell_type": "code",
   "execution_count": 8,
   "id": "0929a199",
   "metadata": {},
   "outputs": [
    {
     "name": "stderr",
     "output_type": "stream",
     "text": [
      "C:\\Users\\user\\AppData\\Local\\Programs\\Python\\Python312\\Lib\\site-packages\\sklearn\\model_selection\\_split.py:737: UserWarning: The least populated class in y has only 1 members, which is less than n_splits=5.\n",
      "  warnings.warn(\n"
     ]
    }
   ],
   "source": [
    "cat = [\"experience_level\", \"employment_type\", \"job_title\", \"salary_currency\", \"employee_residence\", \n",
    "                        \"company_location\", \"company_size\"]\n",
    "te = TargetEncoder()\n",
    "X_te= pd.DataFrame(te.fit_transform(X, y), columns=te.get_feature_names_out())\n",
    "X_test_te= pd.DataFrame(te.transform(X_test), columns=te.get_feature_names_out())"
   ]
  },
  {
   "cell_type": "code",
   "execution_count": 9,
   "id": "017fafc9",
   "metadata": {},
   "outputs": [
    {
     "name": "stdout",
     "output_type": "stream",
     "text": [
      "MAPE: 0.66, RMSE: 106200.39\n"
     ]
    }
   ],
   "source": [
    "lr = LinearRegression()\n",
    "lr.fit(X_le, y)\n",
    "y_pred = lr.predict(X_test_le)\n",
    "print(f\"MAPE: {round(mean_absolute_percentage_error(y_test, y_pred), 2)}, RMSE: {round(mean_squared_error(y_test, y_pred)**0.5, 2)}\")"
   ]
  },
  {
   "cell_type": "markdown",
   "id": "8bf8374f",
   "metadata": {},
   "source": [
    "## Задание 3 (0.3 балла)"
   ]
  },
  {
   "cell_type": "markdown",
   "id": "97440d17",
   "metadata": {},
   "source": [
    "Обучите модель бустинга выберите любую из трех библиотек catboost, xgboost, lightgbm и оцените её качество через mape и rmse"
   ]
  },
  {
   "cell_type": "code",
   "execution_count": 10,
   "id": "c8f44cc1",
   "metadata": {},
   "outputs": [
    {
     "name": "stdout",
     "output_type": "stream",
     "text": [
      "MAPE: 0.38, RMSE: 49318.38\n"
     ]
    }
   ],
   "source": [
    "xgb = XGBRegressor(objective='reg:tweedie', random_state=42)\n",
    "xgb.fit(X_ohe, y)\n",
    "y_pred = xgb.predict(X_test_ohe)\n",
    "print(f\"MAPE: {round(mean_absolute_percentage_error(y_test, y_pred), 2)}, RMSE: {round(mean_squared_error(y_test, y_pred)**0.5, 2)}\")"
   ]
  },
  {
   "cell_type": "code",
   "execution_count": 11,
   "id": "47405197",
   "metadata": {},
   "outputs": [],
   "source": [
    "d = dict()\n",
    "d[\"xgb\"] = []\n",
    "d[\"gbm\"] = []\n",
    "d[\"cat\"] = []"
   ]
  },
  {
   "cell_type": "code",
   "execution_count": 12,
   "id": "e0c7c7bc",
   "metadata": {},
   "outputs": [],
   "source": [
    "d[\"xgb\"].append((round(mean_absolute_percentage_error(y_test, y_pred), 2), round(mean_squared_error(y_test, y_pred)**0.5, 2)))"
   ]
  },
  {
   "cell_type": "markdown",
   "id": "73add4ef",
   "metadata": {},
   "source": [
    "лучше, чем линейная регрессия, но ошибка все равно большая"
   ]
  },
  {
   "cell_type": "markdown",
   "id": "17b76f89",
   "metadata": {},
   "source": [
    "## Задание 4 (0.6 балла)"
   ]
  },
  {
   "cell_type": "markdown",
   "id": "34452854",
   "metadata": {},
   "source": [
    "Далее предобработайте категориальные признаки с помощью onehot кодирования, labelencoder и счетчиков (mean target encoding) сравните качество трёх моделей бустинга (catboost, xgb, lgbm) с помощью mape и rmse. Какие выводы можно сделать? Выберите для каждой из моделей лучшее кодирование категориальных признаков - в дальнейшем будем работать только с ним."
   ]
  },
  {
   "cell_type": "code",
   "execution_count": 13,
   "id": "07e1df05",
   "metadata": {},
   "outputs": [
    {
     "name": "stdout",
     "output_type": "stream",
     "text": [
      "[LightGBM] [Warning] Found whitespace in feature_names, replace with underlines\n"
     ]
    }
   ],
   "source": [
    "gbm = lgb.LGBMRegressor(objective=\"poisson\", verbose=0, random_state=42)\n",
    "gbm.fit(X_ohe, y)\n",
    "y_pred = gbm.predict(X_test_ohe)"
   ]
  },
  {
   "cell_type": "code",
   "execution_count": 14,
   "id": "eccac26b",
   "metadata": {},
   "outputs": [],
   "source": [
    "d[\"gbm\"].append((round(mean_absolute_percentage_error(y_test, y_pred), 2), round(mean_squared_error(y_test, y_pred)**0.5, 2)))"
   ]
  },
  {
   "cell_type": "code",
   "execution_count": 15,
   "id": "3fbf9020",
   "metadata": {},
   "outputs": [],
   "source": [
    "cat = CatBoostRegressor(loss_function='Tweedie:variance_power=1.9', random_state=42)\n",
    "cat.fit(X_ohe, y, verbose=False)\n",
    "y_pred = cat.predict(X_test_ohe)"
   ]
  },
  {
   "cell_type": "code",
   "execution_count": 16,
   "id": "dd228a9b",
   "metadata": {},
   "outputs": [],
   "source": [
    "d[\"cat\"].append((round(mean_absolute_percentage_error(y_test, y_pred), 2), round(mean_squared_error(y_test, y_pred)**0.5, 2)))"
   ]
  },
  {
   "cell_type": "code",
   "execution_count": 17,
   "id": "22b47c73",
   "metadata": {},
   "outputs": [],
   "source": [
    "xgb = XGBRegressor(objective='reg:tweedie', random_state=42)\n",
    "xgb.fit(X_le, y)\n",
    "y_pred = xgb.predict(X_test_le)"
   ]
  },
  {
   "cell_type": "code",
   "execution_count": 18,
   "id": "5772a814",
   "metadata": {},
   "outputs": [],
   "source": [
    "d[\"xgb\"].append((round(mean_absolute_percentage_error(y_test, y_pred), 2), round(mean_squared_error(y_test, y_pred)**0.5, 2)))"
   ]
  },
  {
   "cell_type": "code",
   "execution_count": 19,
   "id": "de091f8a",
   "metadata": {},
   "outputs": [],
   "source": [
    "gbm = lgb.LGBMRegressor(objective=\"poisson\", verbose=0, random_state=42)\n",
    "gbm.fit(X_le, y)\n",
    "y_pred = gbm.predict(X_test_le)"
   ]
  },
  {
   "cell_type": "code",
   "execution_count": 20,
   "id": "b9c6ccaa",
   "metadata": {},
   "outputs": [],
   "source": [
    "d[\"gbm\"].append((round(mean_absolute_percentage_error(y_test, y_pred), 2), round(mean_squared_error(y_test, y_pred)**0.5, 2)))"
   ]
  },
  {
   "cell_type": "code",
   "execution_count": 21,
   "id": "028e3df2",
   "metadata": {},
   "outputs": [],
   "source": [
    "cat = CatBoostRegressor(loss_function='Tweedie:variance_power=1.9', random_state=42)\n",
    "cat.fit(X_le, y, verbose=False)\n",
    "y_pred = cat.predict(X_test_le)"
   ]
  },
  {
   "cell_type": "code",
   "execution_count": 22,
   "id": "38e1f554",
   "metadata": {},
   "outputs": [],
   "source": [
    "d[\"cat\"].append((round(mean_absolute_percentage_error(y_test, y_pred), 2), round(mean_squared_error(y_test, y_pred)**0.5, 2)))"
   ]
  },
  {
   "cell_type": "code",
   "execution_count": 23,
   "id": "a594a012",
   "metadata": {},
   "outputs": [],
   "source": [
    "xgb = XGBRegressor(objective='reg:tweedie', random_state=42)\n",
    "xgb.fit(X_te, y)\n",
    "y_pred = xgb.predict(X_test_te)"
   ]
  },
  {
   "cell_type": "code",
   "execution_count": 24,
   "id": "dd4cd0fa",
   "metadata": {},
   "outputs": [],
   "source": [
    "d[\"xgb\"].append((round(mean_absolute_percentage_error(y_test, y_pred), 2), round(mean_squared_error(y_test, y_pred)**0.5, 2)))"
   ]
  },
  {
   "cell_type": "code",
   "execution_count": 25,
   "id": "bc71085b",
   "metadata": {},
   "outputs": [],
   "source": [
    "gbm = lgb.LGBMRegressor(objective=\"poisson\", verbose=0, random_state=42)\n",
    "gbm.fit(X_te, y)\n",
    "y_pred = gbm.predict(X_test_te)"
   ]
  },
  {
   "cell_type": "code",
   "execution_count": 26,
   "id": "3b9ef381",
   "metadata": {},
   "outputs": [],
   "source": [
    "d[\"gbm\"].append((round(mean_absolute_percentage_error(y_test, y_pred), 2), round(mean_squared_error(y_test, y_pred)**0.5, 2)))"
   ]
  },
  {
   "cell_type": "code",
   "execution_count": 27,
   "id": "4a8f411a",
   "metadata": {},
   "outputs": [],
   "source": [
    "cat = CatBoostRegressor(loss_function='Tweedie:variance_power=1.9', random_state=42)\n",
    "cat.fit(X_te, y, verbose=False)\n",
    "y_pred = cat.predict(X_test_te)"
   ]
  },
  {
   "cell_type": "code",
   "execution_count": 28,
   "id": "99e36439",
   "metadata": {},
   "outputs": [],
   "source": [
    "d[\"cat\"].append((round(mean_absolute_percentage_error(y_test, y_pred), 2), round(mean_squared_error(y_test, y_pred)**0.5, 2)))"
   ]
  },
  {
   "cell_type": "code",
   "execution_count": 29,
   "id": "ade6d643",
   "metadata": {},
   "outputs": [
    {
     "data": {
      "text/html": [
       "<div>\n",
       "<style scoped>\n",
       "    .dataframe tbody tr th:only-of-type {\n",
       "        vertical-align: middle;\n",
       "    }\n",
       "\n",
       "    .dataframe tbody tr th {\n",
       "        vertical-align: top;\n",
       "    }\n",
       "\n",
       "    .dataframe thead th {\n",
       "        text-align: right;\n",
       "    }\n",
       "</style>\n",
       "<table border=\"1\" class=\"dataframe\">\n",
       "  <thead>\n",
       "    <tr style=\"text-align: right;\">\n",
       "      <th></th>\n",
       "      <th>ohe</th>\n",
       "      <th>le</th>\n",
       "      <th>te</th>\n",
       "    </tr>\n",
       "  </thead>\n",
       "  <tbody>\n",
       "    <tr>\n",
       "      <th>xgb</th>\n",
       "      <td>(0.38, 49318.38)</td>\n",
       "      <td>(0.66, 108459.92)</td>\n",
       "      <td>(0.4, 51333.65)</td>\n",
       "    </tr>\n",
       "    <tr>\n",
       "      <th>gbm</th>\n",
       "      <td>(0.4, 50480.47)</td>\n",
       "      <td>(0.62, 94030.12)</td>\n",
       "      <td>(0.39, 50218.08)</td>\n",
       "    </tr>\n",
       "    <tr>\n",
       "      <th>cat</th>\n",
       "      <td>(0.37, 49585.84)</td>\n",
       "      <td>(0.87, 137893.23)</td>\n",
       "      <td>(0.39, 68877.07)</td>\n",
       "    </tr>\n",
       "  </tbody>\n",
       "</table>\n",
       "</div>"
      ],
      "text/plain": [
       "                  ohe                 le                te\n",
       "xgb  (0.38, 49318.38)  (0.66, 108459.92)   (0.4, 51333.65)\n",
       "gbm   (0.4, 50480.47)   (0.62, 94030.12)  (0.39, 50218.08)\n",
       "cat  (0.37, 49585.84)  (0.87, 137893.23)  (0.39, 68877.07)"
      ]
     },
     "execution_count": 29,
     "metadata": {},
     "output_type": "execute_result"
    }
   ],
   "source": [
    "pd.DataFrame.from_dict(d, orient='index', columns=[\"ohe\", \"le\", \"te\"])"
   ]
  },
  {
   "cell_type": "markdown",
   "id": "c9eecc5f",
   "metadata": {},
   "source": [
    "для XGBRegressor лучшее кодирование: OneHotEncoder, \n",
    "для LGBMRegressor лучшее кодирование: OneHotEncoder, \n",
    "для CatBoostRegressor лучшее кодирование: OneHotEncoder, качество на всех моделях с OneHotEncoder примерно одинаковое"
   ]
  },
  {
   "cell_type": "markdown",
   "id": "119b89f1",
   "metadata": {},
   "source": [
    "## Задание 5 (0.6 балла)"
   ]
  },
  {
   "cell_type": "markdown",
   "id": "140b8af1",
   "metadata": {},
   "source": [
    "Покажите, где ошибаются ваши модели. Выведите топ 20 примеров с наибольшей ошибкой для каждой модели. Проанализируете их, постарайтесь выделить группы с причинами ошибок в моделе. Какие выводы можно сделать? Что стоит изменить в данных чтобы улучшить качество модели?"
   ]
  },
  {
   "cell_type": "code",
   "execution_count": 30,
   "id": "900509b1",
   "metadata": {},
   "outputs": [
    {
     "name": "stdout",
     "output_type": "stream",
     "text": [
      "[LightGBM] [Warning] Found whitespace in feature_names, replace with underlines\n"
     ]
    }
   ],
   "source": [
    "xgb = XGBRegressor(objective='reg:tweedie', random_state=42)\n",
    "xgb.fit(X_ohe, y)\n",
    "y_pred_xgb = xgb.predict(X_test_ohe)\n",
    "\n",
    "\n",
    "gbm = lgb.LGBMRegressor(verbose=0, objective=\"poisson\", random_state=42)\n",
    "gbm.fit(X_ohe, y)\n",
    "y_pred_gbm = gbm.predict(X_test_ohe)\n",
    "\n",
    "\n",
    "cat = CatBoostRegressor(loss_function='Tweedie:variance_power=1.9', random_state=42)\n",
    "cat.fit(X_ohe, y, verbose=False)\n",
    "y_pred_cat = cat.predict(X_test_ohe)"
   ]
  },
  {
   "cell_type": "code",
   "execution_count": 31,
   "id": "94a0aead",
   "metadata": {},
   "outputs": [],
   "source": [
    "(ind, val) = (abs(y_pred_xgb - y_test).index, abs(y_pred_xgb - y_test).values)\n",
    "ind_xgb = ind[np.argsort(val)[::-1][:20]]"
   ]
  },
  {
   "cell_type": "code",
   "execution_count": 32,
   "id": "9fbb61aa",
   "metadata": {},
   "outputs": [],
   "source": [
    "(ind, val) = (abs(y_pred_gbm - y_test).index, abs(y_pred_gbm - y_test).values)\n",
    "ind_gbm = ind[np.argsort(val)[::-1][:20]]"
   ]
  },
  {
   "cell_type": "code",
   "execution_count": 33,
   "id": "8a99747b",
   "metadata": {},
   "outputs": [],
   "source": [
    "(ind, val) = (abs(y_pred_cat - y_test).index, abs(y_pred_cat - y_test).values)\n",
    "ind_cat = ind[np.argsort(val)[::-1][:20]]"
   ]
  },
  {
   "cell_type": "code",
   "execution_count": 34,
   "id": "a66e83f9",
   "metadata": {},
   "outputs": [
    {
     "data": {
      "text/plain": [
       "count      3755.000000\n",
       "mean     137570.389880\n",
       "std       63055.625278\n",
       "min        5132.000000\n",
       "25%       95000.000000\n",
       "50%      135000.000000\n",
       "75%      175000.000000\n",
       "max      450000.000000\n",
       "Name: salary_in_usd, dtype: float64"
      ]
     },
     "execution_count": 34,
     "metadata": {},
     "output_type": "execute_result"
    }
   ],
   "source": [
    "df[\"salary_in_usd\"].describe()"
   ]
  },
  {
   "cell_type": "code",
   "execution_count": 35,
   "id": "0ef31547",
   "metadata": {},
   "outputs": [
    {
     "data": {
      "text/html": [
       "<div>\n",
       "<style scoped>\n",
       "    .dataframe tbody tr th:only-of-type {\n",
       "        vertical-align: middle;\n",
       "    }\n",
       "\n",
       "    .dataframe tbody tr th {\n",
       "        vertical-align: top;\n",
       "    }\n",
       "\n",
       "    .dataframe thead th {\n",
       "        text-align: right;\n",
       "    }\n",
       "</style>\n",
       "<table border=\"1\" class=\"dataframe\">\n",
       "  <thead>\n",
       "    <tr style=\"text-align: right;\">\n",
       "      <th></th>\n",
       "      <th>work_year</th>\n",
       "      <th>experience_level</th>\n",
       "      <th>employment_type</th>\n",
       "      <th>job_title</th>\n",
       "      <th>salary</th>\n",
       "      <th>salary_currency</th>\n",
       "      <th>salary_in_usd</th>\n",
       "      <th>employee_residence</th>\n",
       "      <th>remote_ratio</th>\n",
       "      <th>company_location</th>\n",
       "      <th>company_size</th>\n",
       "    </tr>\n",
       "  </thead>\n",
       "  <tbody>\n",
       "    <tr>\n",
       "      <th>1288</th>\n",
       "      <td>2023</td>\n",
       "      <td>SE</td>\n",
       "      <td>FT</td>\n",
       "      <td>Data Analyst</td>\n",
       "      <td>385000</td>\n",
       "      <td>USD</td>\n",
       "      <td>385000</td>\n",
       "      <td>US</td>\n",
       "      <td>0</td>\n",
       "      <td>US</td>\n",
       "      <td>M</td>\n",
       "    </tr>\n",
       "    <tr>\n",
       "      <th>1105</th>\n",
       "      <td>2023</td>\n",
       "      <td>SE</td>\n",
       "      <td>FT</td>\n",
       "      <td>Data Scientist</td>\n",
       "      <td>370000</td>\n",
       "      <td>USD</td>\n",
       "      <td>370000</td>\n",
       "      <td>US</td>\n",
       "      <td>0</td>\n",
       "      <td>US</td>\n",
       "      <td>M</td>\n",
       "    </tr>\n",
       "    <tr>\n",
       "      <th>1116</th>\n",
       "      <td>2023</td>\n",
       "      <td>SE</td>\n",
       "      <td>FT</td>\n",
       "      <td>Machine Learning Engineer</td>\n",
       "      <td>323300</td>\n",
       "      <td>USD</td>\n",
       "      <td>323300</td>\n",
       "      <td>US</td>\n",
       "      <td>0</td>\n",
       "      <td>US</td>\n",
       "      <td>M</td>\n",
       "    </tr>\n",
       "    <tr>\n",
       "      <th>33</th>\n",
       "      <td>2023</td>\n",
       "      <td>SE</td>\n",
       "      <td>FT</td>\n",
       "      <td>Computer Vision Engineer</td>\n",
       "      <td>342810</td>\n",
       "      <td>USD</td>\n",
       "      <td>342810</td>\n",
       "      <td>US</td>\n",
       "      <td>0</td>\n",
       "      <td>US</td>\n",
       "      <td>M</td>\n",
       "    </tr>\n",
       "    <tr>\n",
       "      <th>3387</th>\n",
       "      <td>2022</td>\n",
       "      <td>SE</td>\n",
       "      <td>FT</td>\n",
       "      <td>Data Engineer</td>\n",
       "      <td>25000</td>\n",
       "      <td>USD</td>\n",
       "      <td>25000</td>\n",
       "      <td>US</td>\n",
       "      <td>100</td>\n",
       "      <td>US</td>\n",
       "      <td>M</td>\n",
       "    </tr>\n",
       "    <tr>\n",
       "      <th>1677</th>\n",
       "      <td>2023</td>\n",
       "      <td>SE</td>\n",
       "      <td>FT</td>\n",
       "      <td>Data Scientist</td>\n",
       "      <td>297300</td>\n",
       "      <td>USD</td>\n",
       "      <td>297300</td>\n",
       "      <td>US</td>\n",
       "      <td>100</td>\n",
       "      <td>US</td>\n",
       "      <td>M</td>\n",
       "    </tr>\n",
       "    <tr>\n",
       "      <th>2589</th>\n",
       "      <td>2022</td>\n",
       "      <td>SE</td>\n",
       "      <td>FT</td>\n",
       "      <td>Product Data Scientist</td>\n",
       "      <td>8000</td>\n",
       "      <td>USD</td>\n",
       "      <td>8000</td>\n",
       "      <td>IN</td>\n",
       "      <td>100</td>\n",
       "      <td>SG</td>\n",
       "      <td>L</td>\n",
       "    </tr>\n",
       "    <tr>\n",
       "      <th>325</th>\n",
       "      <td>2023</td>\n",
       "      <td>MI</td>\n",
       "      <td>FT</td>\n",
       "      <td>Machine Learning Engineer</td>\n",
       "      <td>280700</td>\n",
       "      <td>USD</td>\n",
       "      <td>280700</td>\n",
       "      <td>US</td>\n",
       "      <td>100</td>\n",
       "      <td>US</td>\n",
       "      <td>M</td>\n",
       "    </tr>\n",
       "    <tr>\n",
       "      <th>2711</th>\n",
       "      <td>2022</td>\n",
       "      <td>EX</td>\n",
       "      <td>FT</td>\n",
       "      <td>Data Engineer</td>\n",
       "      <td>116100</td>\n",
       "      <td>USD</td>\n",
       "      <td>116100</td>\n",
       "      <td>US</td>\n",
       "      <td>100</td>\n",
       "      <td>US</td>\n",
       "      <td>M</td>\n",
       "    </tr>\n",
       "    <tr>\n",
       "      <th>358</th>\n",
       "      <td>2023</td>\n",
       "      <td>SE</td>\n",
       "      <td>FT</td>\n",
       "      <td>Machine Learning Engineer</td>\n",
       "      <td>304000</td>\n",
       "      <td>USD</td>\n",
       "      <td>304000</td>\n",
       "      <td>US</td>\n",
       "      <td>100</td>\n",
       "      <td>US</td>\n",
       "      <td>M</td>\n",
       "    </tr>\n",
       "    <tr>\n",
       "      <th>478</th>\n",
       "      <td>2023</td>\n",
       "      <td>EX</td>\n",
       "      <td>FT</td>\n",
       "      <td>Director of Data Science</td>\n",
       "      <td>353200</td>\n",
       "      <td>USD</td>\n",
       "      <td>353200</td>\n",
       "      <td>US</td>\n",
       "      <td>0</td>\n",
       "      <td>US</td>\n",
       "      <td>M</td>\n",
       "    </tr>\n",
       "    <tr>\n",
       "      <th>3519</th>\n",
       "      <td>2021</td>\n",
       "      <td>EX</td>\n",
       "      <td>FT</td>\n",
       "      <td>Head of Data</td>\n",
       "      <td>230000</td>\n",
       "      <td>USD</td>\n",
       "      <td>230000</td>\n",
       "      <td>RU</td>\n",
       "      <td>50</td>\n",
       "      <td>RU</td>\n",
       "      <td>L</td>\n",
       "    </tr>\n",
       "    <tr>\n",
       "      <th>44</th>\n",
       "      <td>2023</td>\n",
       "      <td>SE</td>\n",
       "      <td>FT</td>\n",
       "      <td>Data Engineer</td>\n",
       "      <td>270703</td>\n",
       "      <td>USD</td>\n",
       "      <td>270703</td>\n",
       "      <td>US</td>\n",
       "      <td>0</td>\n",
       "      <td>US</td>\n",
       "      <td>M</td>\n",
       "    </tr>\n",
       "    <tr>\n",
       "      <th>76</th>\n",
       "      <td>2023</td>\n",
       "      <td>SE</td>\n",
       "      <td>FT</td>\n",
       "      <td>Data Architect</td>\n",
       "      <td>280100</td>\n",
       "      <td>USD</td>\n",
       "      <td>280100</td>\n",
       "      <td>US</td>\n",
       "      <td>100</td>\n",
       "      <td>US</td>\n",
       "      <td>M</td>\n",
       "    </tr>\n",
       "    <tr>\n",
       "      <th>2009</th>\n",
       "      <td>2022</td>\n",
       "      <td>SE</td>\n",
       "      <td>FT</td>\n",
       "      <td>Machine Learning Engineer</td>\n",
       "      <td>255000</td>\n",
       "      <td>USD</td>\n",
       "      <td>255000</td>\n",
       "      <td>MX</td>\n",
       "      <td>100</td>\n",
       "      <td>MX</td>\n",
       "      <td>M</td>\n",
       "    </tr>\n",
       "    <tr>\n",
       "      <th>183</th>\n",
       "      <td>2020</td>\n",
       "      <td>EX</td>\n",
       "      <td>FT</td>\n",
       "      <td>Staff Data Analyst</td>\n",
       "      <td>15000</td>\n",
       "      <td>USD</td>\n",
       "      <td>15000</td>\n",
       "      <td>NG</td>\n",
       "      <td>0</td>\n",
       "      <td>CA</td>\n",
       "      <td>M</td>\n",
       "    </tr>\n",
       "    <tr>\n",
       "      <th>2281</th>\n",
       "      <td>2022</td>\n",
       "      <td>SE</td>\n",
       "      <td>FT</td>\n",
       "      <td>Data Science Manager</td>\n",
       "      <td>299500</td>\n",
       "      <td>USD</td>\n",
       "      <td>299500</td>\n",
       "      <td>US</td>\n",
       "      <td>0</td>\n",
       "      <td>US</td>\n",
       "      <td>M</td>\n",
       "    </tr>\n",
       "    <tr>\n",
       "      <th>2775</th>\n",
       "      <td>2022</td>\n",
       "      <td>SE</td>\n",
       "      <td>FT</td>\n",
       "      <td>ML Engineer</td>\n",
       "      <td>84000</td>\n",
       "      <td>USD</td>\n",
       "      <td>84000</td>\n",
       "      <td>US</td>\n",
       "      <td>100</td>\n",
       "      <td>US</td>\n",
       "      <td>M</td>\n",
       "    </tr>\n",
       "    <tr>\n",
       "      <th>1056</th>\n",
       "      <td>2023</td>\n",
       "      <td>SE</td>\n",
       "      <td>FT</td>\n",
       "      <td>Data Analyst</td>\n",
       "      <td>230000</td>\n",
       "      <td>USD</td>\n",
       "      <td>230000</td>\n",
       "      <td>US</td>\n",
       "      <td>0</td>\n",
       "      <td>US</td>\n",
       "      <td>M</td>\n",
       "    </tr>\n",
       "    <tr>\n",
       "      <th>655</th>\n",
       "      <td>2023</td>\n",
       "      <td>SE</td>\n",
       "      <td>FT</td>\n",
       "      <td>Data Engineer</td>\n",
       "      <td>260000</td>\n",
       "      <td>USD</td>\n",
       "      <td>260000</td>\n",
       "      <td>US</td>\n",
       "      <td>0</td>\n",
       "      <td>US</td>\n",
       "      <td>M</td>\n",
       "    </tr>\n",
       "  </tbody>\n",
       "</table>\n",
       "</div>"
      ],
      "text/plain": [
       "      work_year experience_level employment_type                  job_title  \\\n",
       "1288       2023               SE              FT               Data Analyst   \n",
       "1105       2023               SE              FT             Data Scientist   \n",
       "1116       2023               SE              FT  Machine Learning Engineer   \n",
       "33         2023               SE              FT   Computer Vision Engineer   \n",
       "3387       2022               SE              FT              Data Engineer   \n",
       "1677       2023               SE              FT             Data Scientist   \n",
       "2589       2022               SE              FT     Product Data Scientist   \n",
       "325        2023               MI              FT  Machine Learning Engineer   \n",
       "2711       2022               EX              FT              Data Engineer   \n",
       "358        2023               SE              FT  Machine Learning Engineer   \n",
       "478        2023               EX              FT   Director of Data Science   \n",
       "3519       2021               EX              FT               Head of Data   \n",
       "44         2023               SE              FT              Data Engineer   \n",
       "76         2023               SE              FT             Data Architect   \n",
       "2009       2022               SE              FT  Machine Learning Engineer   \n",
       "183        2020               EX              FT         Staff Data Analyst   \n",
       "2281       2022               SE              FT       Data Science Manager   \n",
       "2775       2022               SE              FT                ML Engineer   \n",
       "1056       2023               SE              FT               Data Analyst   \n",
       "655        2023               SE              FT              Data Engineer   \n",
       "\n",
       "      salary salary_currency  salary_in_usd employee_residence  remote_ratio  \\\n",
       "1288  385000             USD         385000                 US             0   \n",
       "1105  370000             USD         370000                 US             0   \n",
       "1116  323300             USD         323300                 US             0   \n",
       "33    342810             USD         342810                 US             0   \n",
       "3387   25000             USD          25000                 US           100   \n",
       "1677  297300             USD         297300                 US           100   \n",
       "2589    8000             USD           8000                 IN           100   \n",
       "325   280700             USD         280700                 US           100   \n",
       "2711  116100             USD         116100                 US           100   \n",
       "358   304000             USD         304000                 US           100   \n",
       "478   353200             USD         353200                 US             0   \n",
       "3519  230000             USD         230000                 RU            50   \n",
       "44    270703             USD         270703                 US             0   \n",
       "76    280100             USD         280100                 US           100   \n",
       "2009  255000             USD         255000                 MX           100   \n",
       "183    15000             USD          15000                 NG             0   \n",
       "2281  299500             USD         299500                 US             0   \n",
       "2775   84000             USD          84000                 US           100   \n",
       "1056  230000             USD         230000                 US             0   \n",
       "655   260000             USD         260000                 US             0   \n",
       "\n",
       "     company_location company_size  \n",
       "1288               US            M  \n",
       "1105               US            M  \n",
       "1116               US            M  \n",
       "33                 US            M  \n",
       "3387               US            M  \n",
       "1677               US            M  \n",
       "2589               SG            L  \n",
       "325                US            M  \n",
       "2711               US            M  \n",
       "358                US            M  \n",
       "478                US            M  \n",
       "3519               RU            L  \n",
       "44                 US            M  \n",
       "76                 US            M  \n",
       "2009               MX            M  \n",
       "183                CA            M  \n",
       "2281               US            M  \n",
       "2775               US            M  \n",
       "1056               US            M  \n",
       "655                US            M  "
      ]
     },
     "execution_count": 35,
     "metadata": {},
     "output_type": "execute_result"
    }
   ],
   "source": [
    "df.iloc[ind_xgb]"
   ]
  },
  {
   "cell_type": "code",
   "execution_count": 36,
   "id": "92a8116b",
   "metadata": {},
   "outputs": [
    {
     "data": {
      "text/plain": [
       "array([256844.5      , 203473.28125  , 145375.5625   , 140058.75     ,\n",
       "       131341.78125  , 129036.25     , 126224.890625 , 125276.203125 ,\n",
       "       122107.53125  , 116867.15625  , 114284.015625 , 113930.7265625,\n",
       "       112401.96875  , 111798.53125  , 111620.53125  , 110687.5390625,\n",
       "       107486.609375 , 106765.296875 , 101844.5      , 101698.96875  ])"
      ]
     },
     "execution_count": 36,
     "metadata": {},
     "output_type": "execute_result"
    }
   ],
   "source": [
    "(ind, val) = (abs(y_pred_xgb - y_test).index, abs(y_pred_xgb - y_test).values)\n",
    "val[np.argsort(val)[::-1][:20]]"
   ]
  },
  {
   "cell_type": "code",
   "execution_count": 37,
   "id": "811f52df",
   "metadata": {},
   "outputs": [
    {
     "data": {
      "text/html": [
       "<div>\n",
       "<style scoped>\n",
       "    .dataframe tbody tr th:only-of-type {\n",
       "        vertical-align: middle;\n",
       "    }\n",
       "\n",
       "    .dataframe tbody tr th {\n",
       "        vertical-align: top;\n",
       "    }\n",
       "\n",
       "    .dataframe thead th {\n",
       "        text-align: right;\n",
       "    }\n",
       "</style>\n",
       "<table border=\"1\" class=\"dataframe\">\n",
       "  <thead>\n",
       "    <tr style=\"text-align: right;\">\n",
       "      <th></th>\n",
       "      <th>work_year</th>\n",
       "      <th>experience_level</th>\n",
       "      <th>employment_type</th>\n",
       "      <th>job_title</th>\n",
       "      <th>salary</th>\n",
       "      <th>salary_currency</th>\n",
       "      <th>salary_in_usd</th>\n",
       "      <th>employee_residence</th>\n",
       "      <th>remote_ratio</th>\n",
       "      <th>company_location</th>\n",
       "      <th>company_size</th>\n",
       "    </tr>\n",
       "  </thead>\n",
       "  <tbody>\n",
       "    <tr>\n",
       "      <th>1288</th>\n",
       "      <td>2023</td>\n",
       "      <td>SE</td>\n",
       "      <td>FT</td>\n",
       "      <td>Data Analyst</td>\n",
       "      <td>385000</td>\n",
       "      <td>USD</td>\n",
       "      <td>385000</td>\n",
       "      <td>US</td>\n",
       "      <td>0</td>\n",
       "      <td>US</td>\n",
       "      <td>M</td>\n",
       "    </tr>\n",
       "    <tr>\n",
       "      <th>1105</th>\n",
       "      <td>2023</td>\n",
       "      <td>SE</td>\n",
       "      <td>FT</td>\n",
       "      <td>Data Scientist</td>\n",
       "      <td>370000</td>\n",
       "      <td>USD</td>\n",
       "      <td>370000</td>\n",
       "      <td>US</td>\n",
       "      <td>0</td>\n",
       "      <td>US</td>\n",
       "      <td>M</td>\n",
       "    </tr>\n",
       "    <tr>\n",
       "      <th>33</th>\n",
       "      <td>2023</td>\n",
       "      <td>SE</td>\n",
       "      <td>FT</td>\n",
       "      <td>Computer Vision Engineer</td>\n",
       "      <td>342810</td>\n",
       "      <td>USD</td>\n",
       "      <td>342810</td>\n",
       "      <td>US</td>\n",
       "      <td>0</td>\n",
       "      <td>US</td>\n",
       "      <td>M</td>\n",
       "    </tr>\n",
       "    <tr>\n",
       "      <th>478</th>\n",
       "      <td>2023</td>\n",
       "      <td>EX</td>\n",
       "      <td>FT</td>\n",
       "      <td>Director of Data Science</td>\n",
       "      <td>353200</td>\n",
       "      <td>USD</td>\n",
       "      <td>353200</td>\n",
       "      <td>US</td>\n",
       "      <td>0</td>\n",
       "      <td>US</td>\n",
       "      <td>M</td>\n",
       "    </tr>\n",
       "    <tr>\n",
       "      <th>1116</th>\n",
       "      <td>2023</td>\n",
       "      <td>SE</td>\n",
       "      <td>FT</td>\n",
       "      <td>Machine Learning Engineer</td>\n",
       "      <td>323300</td>\n",
       "      <td>USD</td>\n",
       "      <td>323300</td>\n",
       "      <td>US</td>\n",
       "      <td>0</td>\n",
       "      <td>US</td>\n",
       "      <td>M</td>\n",
       "    </tr>\n",
       "    <tr>\n",
       "      <th>3519</th>\n",
       "      <td>2021</td>\n",
       "      <td>EX</td>\n",
       "      <td>FT</td>\n",
       "      <td>Head of Data</td>\n",
       "      <td>230000</td>\n",
       "      <td>USD</td>\n",
       "      <td>230000</td>\n",
       "      <td>RU</td>\n",
       "      <td>50</td>\n",
       "      <td>RU</td>\n",
       "      <td>L</td>\n",
       "    </tr>\n",
       "    <tr>\n",
       "      <th>325</th>\n",
       "      <td>2023</td>\n",
       "      <td>MI</td>\n",
       "      <td>FT</td>\n",
       "      <td>Machine Learning Engineer</td>\n",
       "      <td>280700</td>\n",
       "      <td>USD</td>\n",
       "      <td>280700</td>\n",
       "      <td>US</td>\n",
       "      <td>100</td>\n",
       "      <td>US</td>\n",
       "      <td>M</td>\n",
       "    </tr>\n",
       "    <tr>\n",
       "      <th>3387</th>\n",
       "      <td>2022</td>\n",
       "      <td>SE</td>\n",
       "      <td>FT</td>\n",
       "      <td>Data Engineer</td>\n",
       "      <td>25000</td>\n",
       "      <td>USD</td>\n",
       "      <td>25000</td>\n",
       "      <td>US</td>\n",
       "      <td>100</td>\n",
       "      <td>US</td>\n",
       "      <td>M</td>\n",
       "    </tr>\n",
       "    <tr>\n",
       "      <th>1677</th>\n",
       "      <td>2023</td>\n",
       "      <td>SE</td>\n",
       "      <td>FT</td>\n",
       "      <td>Data Scientist</td>\n",
       "      <td>297300</td>\n",
       "      <td>USD</td>\n",
       "      <td>297300</td>\n",
       "      <td>US</td>\n",
       "      <td>100</td>\n",
       "      <td>US</td>\n",
       "      <td>M</td>\n",
       "    </tr>\n",
       "    <tr>\n",
       "      <th>2009</th>\n",
       "      <td>2022</td>\n",
       "      <td>SE</td>\n",
       "      <td>FT</td>\n",
       "      <td>Machine Learning Engineer</td>\n",
       "      <td>255000</td>\n",
       "      <td>USD</td>\n",
       "      <td>255000</td>\n",
       "      <td>MX</td>\n",
       "      <td>100</td>\n",
       "      <td>MX</td>\n",
       "      <td>M</td>\n",
       "    </tr>\n",
       "    <tr>\n",
       "      <th>2711</th>\n",
       "      <td>2022</td>\n",
       "      <td>EX</td>\n",
       "      <td>FT</td>\n",
       "      <td>Data Engineer</td>\n",
       "      <td>116100</td>\n",
       "      <td>USD</td>\n",
       "      <td>116100</td>\n",
       "      <td>US</td>\n",
       "      <td>100</td>\n",
       "      <td>US</td>\n",
       "      <td>M</td>\n",
       "    </tr>\n",
       "    <tr>\n",
       "      <th>76</th>\n",
       "      <td>2023</td>\n",
       "      <td>SE</td>\n",
       "      <td>FT</td>\n",
       "      <td>Data Architect</td>\n",
       "      <td>280100</td>\n",
       "      <td>USD</td>\n",
       "      <td>280100</td>\n",
       "      <td>US</td>\n",
       "      <td>100</td>\n",
       "      <td>US</td>\n",
       "      <td>M</td>\n",
       "    </tr>\n",
       "    <tr>\n",
       "      <th>44</th>\n",
       "      <td>2023</td>\n",
       "      <td>SE</td>\n",
       "      <td>FT</td>\n",
       "      <td>Data Engineer</td>\n",
       "      <td>270703</td>\n",
       "      <td>USD</td>\n",
       "      <td>270703</td>\n",
       "      <td>US</td>\n",
       "      <td>0</td>\n",
       "      <td>US</td>\n",
       "      <td>M</td>\n",
       "    </tr>\n",
       "    <tr>\n",
       "      <th>2589</th>\n",
       "      <td>2022</td>\n",
       "      <td>SE</td>\n",
       "      <td>FT</td>\n",
       "      <td>Product Data Scientist</td>\n",
       "      <td>8000</td>\n",
       "      <td>USD</td>\n",
       "      <td>8000</td>\n",
       "      <td>IN</td>\n",
       "      <td>100</td>\n",
       "      <td>SG</td>\n",
       "      <td>L</td>\n",
       "    </tr>\n",
       "    <tr>\n",
       "      <th>3230</th>\n",
       "      <td>2022</td>\n",
       "      <td>MI</td>\n",
       "      <td>FT</td>\n",
       "      <td>Data Science Manager</td>\n",
       "      <td>241000</td>\n",
       "      <td>USD</td>\n",
       "      <td>241000</td>\n",
       "      <td>US</td>\n",
       "      <td>100</td>\n",
       "      <td>US</td>\n",
       "      <td>M</td>\n",
       "    </tr>\n",
       "    <tr>\n",
       "      <th>358</th>\n",
       "      <td>2023</td>\n",
       "      <td>SE</td>\n",
       "      <td>FT</td>\n",
       "      <td>Machine Learning Engineer</td>\n",
       "      <td>304000</td>\n",
       "      <td>USD</td>\n",
       "      <td>304000</td>\n",
       "      <td>US</td>\n",
       "      <td>100</td>\n",
       "      <td>US</td>\n",
       "      <td>M</td>\n",
       "    </tr>\n",
       "    <tr>\n",
       "      <th>2775</th>\n",
       "      <td>2022</td>\n",
       "      <td>SE</td>\n",
       "      <td>FT</td>\n",
       "      <td>ML Engineer</td>\n",
       "      <td>84000</td>\n",
       "      <td>USD</td>\n",
       "      <td>84000</td>\n",
       "      <td>US</td>\n",
       "      <td>100</td>\n",
       "      <td>US</td>\n",
       "      <td>M</td>\n",
       "    </tr>\n",
       "    <tr>\n",
       "      <th>1056</th>\n",
       "      <td>2023</td>\n",
       "      <td>SE</td>\n",
       "      <td>FT</td>\n",
       "      <td>Data Analyst</td>\n",
       "      <td>230000</td>\n",
       "      <td>USD</td>\n",
       "      <td>230000</td>\n",
       "      <td>US</td>\n",
       "      <td>0</td>\n",
       "      <td>US</td>\n",
       "      <td>M</td>\n",
       "    </tr>\n",
       "    <tr>\n",
       "      <th>655</th>\n",
       "      <td>2023</td>\n",
       "      <td>SE</td>\n",
       "      <td>FT</td>\n",
       "      <td>Data Engineer</td>\n",
       "      <td>260000</td>\n",
       "      <td>USD</td>\n",
       "      <td>260000</td>\n",
       "      <td>US</td>\n",
       "      <td>0</td>\n",
       "      <td>US</td>\n",
       "      <td>M</td>\n",
       "    </tr>\n",
       "    <tr>\n",
       "      <th>3477</th>\n",
       "      <td>2022</td>\n",
       "      <td>EN</td>\n",
       "      <td>FT</td>\n",
       "      <td>Computer Vision Software Engineer</td>\n",
       "      <td>150000</td>\n",
       "      <td>USD</td>\n",
       "      <td>150000</td>\n",
       "      <td>AU</td>\n",
       "      <td>100</td>\n",
       "      <td>AU</td>\n",
       "      <td>S</td>\n",
       "    </tr>\n",
       "  </tbody>\n",
       "</table>\n",
       "</div>"
      ],
      "text/plain": [
       "      work_year experience_level employment_type  \\\n",
       "1288       2023               SE              FT   \n",
       "1105       2023               SE              FT   \n",
       "33         2023               SE              FT   \n",
       "478        2023               EX              FT   \n",
       "1116       2023               SE              FT   \n",
       "3519       2021               EX              FT   \n",
       "325        2023               MI              FT   \n",
       "3387       2022               SE              FT   \n",
       "1677       2023               SE              FT   \n",
       "2009       2022               SE              FT   \n",
       "2711       2022               EX              FT   \n",
       "76         2023               SE              FT   \n",
       "44         2023               SE              FT   \n",
       "2589       2022               SE              FT   \n",
       "3230       2022               MI              FT   \n",
       "358        2023               SE              FT   \n",
       "2775       2022               SE              FT   \n",
       "1056       2023               SE              FT   \n",
       "655        2023               SE              FT   \n",
       "3477       2022               EN              FT   \n",
       "\n",
       "                              job_title  salary salary_currency  \\\n",
       "1288                       Data Analyst  385000             USD   \n",
       "1105                     Data Scientist  370000             USD   \n",
       "33             Computer Vision Engineer  342810             USD   \n",
       "478            Director of Data Science  353200             USD   \n",
       "1116          Machine Learning Engineer  323300             USD   \n",
       "3519                       Head of Data  230000             USD   \n",
       "325           Machine Learning Engineer  280700             USD   \n",
       "3387                      Data Engineer   25000             USD   \n",
       "1677                     Data Scientist  297300             USD   \n",
       "2009          Machine Learning Engineer  255000             USD   \n",
       "2711                      Data Engineer  116100             USD   \n",
       "76                       Data Architect  280100             USD   \n",
       "44                        Data Engineer  270703             USD   \n",
       "2589             Product Data Scientist    8000             USD   \n",
       "3230               Data Science Manager  241000             USD   \n",
       "358           Machine Learning Engineer  304000             USD   \n",
       "2775                        ML Engineer   84000             USD   \n",
       "1056                       Data Analyst  230000             USD   \n",
       "655                       Data Engineer  260000             USD   \n",
       "3477  Computer Vision Software Engineer  150000             USD   \n",
       "\n",
       "      salary_in_usd employee_residence  remote_ratio company_location  \\\n",
       "1288         385000                 US             0               US   \n",
       "1105         370000                 US             0               US   \n",
       "33           342810                 US             0               US   \n",
       "478          353200                 US             0               US   \n",
       "1116         323300                 US             0               US   \n",
       "3519         230000                 RU            50               RU   \n",
       "325          280700                 US           100               US   \n",
       "3387          25000                 US           100               US   \n",
       "1677         297300                 US           100               US   \n",
       "2009         255000                 MX           100               MX   \n",
       "2711         116100                 US           100               US   \n",
       "76           280100                 US           100               US   \n",
       "44           270703                 US             0               US   \n",
       "2589           8000                 IN           100               SG   \n",
       "3230         241000                 US           100               US   \n",
       "358          304000                 US           100               US   \n",
       "2775          84000                 US           100               US   \n",
       "1056         230000                 US             0               US   \n",
       "655          260000                 US             0               US   \n",
       "3477         150000                 AU           100               AU   \n",
       "\n",
       "     company_size  \n",
       "1288            M  \n",
       "1105            M  \n",
       "33              M  \n",
       "478             M  \n",
       "1116            M  \n",
       "3519            L  \n",
       "325             M  \n",
       "3387            M  \n",
       "1677            M  \n",
       "2009            M  \n",
       "2711            M  \n",
       "76              M  \n",
       "44              M  \n",
       "2589            L  \n",
       "3230            M  \n",
       "358             M  \n",
       "2775            M  \n",
       "1056            M  \n",
       "655             M  \n",
       "3477            S  "
      ]
     },
     "execution_count": 37,
     "metadata": {},
     "output_type": "execute_result"
    }
   ],
   "source": [
    "df.iloc[ind_gbm]"
   ]
  },
  {
   "cell_type": "code",
   "execution_count": 38,
   "id": "dab6b1d8",
   "metadata": {},
   "outputs": [
    {
     "data": {
      "text/plain": [
       "array([258524.73186644, 202281.15981249, 179315.4074979 , 153718.90720334,\n",
       "       151178.60251697, 132724.15040534, 130660.10268136, 130491.53727861,\n",
       "       124554.62864325, 122974.43987594, 120654.0371378 , 115685.88754452,\n",
       "       113695.53146712, 110906.22165537, 109961.90416507, 106693.26707108,\n",
       "       104411.61966669, 103524.73186644, 102992.53146712, 102961.95171747])"
      ]
     },
     "execution_count": 38,
     "metadata": {},
     "output_type": "execute_result"
    }
   ],
   "source": [
    "(ind, val) = (abs(y_pred_gbm - y_test).index, abs(y_pred_gbm - y_test).values)\n",
    "val[np.argsort(val)[::-1][:20]]"
   ]
  },
  {
   "cell_type": "code",
   "execution_count": 39,
   "id": "a2c29b2f",
   "metadata": {},
   "outputs": [
    {
     "data": {
      "text/html": [
       "<div>\n",
       "<style scoped>\n",
       "    .dataframe tbody tr th:only-of-type {\n",
       "        vertical-align: middle;\n",
       "    }\n",
       "\n",
       "    .dataframe tbody tr th {\n",
       "        vertical-align: top;\n",
       "    }\n",
       "\n",
       "    .dataframe thead th {\n",
       "        text-align: right;\n",
       "    }\n",
       "</style>\n",
       "<table border=\"1\" class=\"dataframe\">\n",
       "  <thead>\n",
       "    <tr style=\"text-align: right;\">\n",
       "      <th></th>\n",
       "      <th>work_year</th>\n",
       "      <th>experience_level</th>\n",
       "      <th>employment_type</th>\n",
       "      <th>job_title</th>\n",
       "      <th>salary</th>\n",
       "      <th>salary_currency</th>\n",
       "      <th>salary_in_usd</th>\n",
       "      <th>employee_residence</th>\n",
       "      <th>remote_ratio</th>\n",
       "      <th>company_location</th>\n",
       "      <th>company_size</th>\n",
       "    </tr>\n",
       "  </thead>\n",
       "  <tbody>\n",
       "    <tr>\n",
       "      <th>1288</th>\n",
       "      <td>2023</td>\n",
       "      <td>SE</td>\n",
       "      <td>FT</td>\n",
       "      <td>Data Analyst</td>\n",
       "      <td>385000</td>\n",
       "      <td>USD</td>\n",
       "      <td>385000</td>\n",
       "      <td>US</td>\n",
       "      <td>0</td>\n",
       "      <td>US</td>\n",
       "      <td>M</td>\n",
       "    </tr>\n",
       "    <tr>\n",
       "      <th>1105</th>\n",
       "      <td>2023</td>\n",
       "      <td>SE</td>\n",
       "      <td>FT</td>\n",
       "      <td>Data Scientist</td>\n",
       "      <td>370000</td>\n",
       "      <td>USD</td>\n",
       "      <td>370000</td>\n",
       "      <td>US</td>\n",
       "      <td>0</td>\n",
       "      <td>US</td>\n",
       "      <td>M</td>\n",
       "    </tr>\n",
       "    <tr>\n",
       "      <th>33</th>\n",
       "      <td>2023</td>\n",
       "      <td>SE</td>\n",
       "      <td>FT</td>\n",
       "      <td>Computer Vision Engineer</td>\n",
       "      <td>342810</td>\n",
       "      <td>USD</td>\n",
       "      <td>342810</td>\n",
       "      <td>US</td>\n",
       "      <td>0</td>\n",
       "      <td>US</td>\n",
       "      <td>M</td>\n",
       "    </tr>\n",
       "    <tr>\n",
       "      <th>1116</th>\n",
       "      <td>2023</td>\n",
       "      <td>SE</td>\n",
       "      <td>FT</td>\n",
       "      <td>Machine Learning Engineer</td>\n",
       "      <td>323300</td>\n",
       "      <td>USD</td>\n",
       "      <td>323300</td>\n",
       "      <td>US</td>\n",
       "      <td>0</td>\n",
       "      <td>US</td>\n",
       "      <td>M</td>\n",
       "    </tr>\n",
       "    <tr>\n",
       "      <th>478</th>\n",
       "      <td>2023</td>\n",
       "      <td>EX</td>\n",
       "      <td>FT</td>\n",
       "      <td>Director of Data Science</td>\n",
       "      <td>353200</td>\n",
       "      <td>USD</td>\n",
       "      <td>353200</td>\n",
       "      <td>US</td>\n",
       "      <td>0</td>\n",
       "      <td>US</td>\n",
       "      <td>M</td>\n",
       "    </tr>\n",
       "    <tr>\n",
       "      <th>325</th>\n",
       "      <td>2023</td>\n",
       "      <td>MI</td>\n",
       "      <td>FT</td>\n",
       "      <td>Machine Learning Engineer</td>\n",
       "      <td>280700</td>\n",
       "      <td>USD</td>\n",
       "      <td>280700</td>\n",
       "      <td>US</td>\n",
       "      <td>100</td>\n",
       "      <td>US</td>\n",
       "      <td>M</td>\n",
       "    </tr>\n",
       "    <tr>\n",
       "      <th>3387</th>\n",
       "      <td>2022</td>\n",
       "      <td>SE</td>\n",
       "      <td>FT</td>\n",
       "      <td>Data Engineer</td>\n",
       "      <td>25000</td>\n",
       "      <td>USD</td>\n",
       "      <td>25000</td>\n",
       "      <td>US</td>\n",
       "      <td>100</td>\n",
       "      <td>US</td>\n",
       "      <td>M</td>\n",
       "    </tr>\n",
       "    <tr>\n",
       "      <th>1677</th>\n",
       "      <td>2023</td>\n",
       "      <td>SE</td>\n",
       "      <td>FT</td>\n",
       "      <td>Data Scientist</td>\n",
       "      <td>297300</td>\n",
       "      <td>USD</td>\n",
       "      <td>297300</td>\n",
       "      <td>US</td>\n",
       "      <td>100</td>\n",
       "      <td>US</td>\n",
       "      <td>M</td>\n",
       "    </tr>\n",
       "    <tr>\n",
       "      <th>2009</th>\n",
       "      <td>2022</td>\n",
       "      <td>SE</td>\n",
       "      <td>FT</td>\n",
       "      <td>Machine Learning Engineer</td>\n",
       "      <td>255000</td>\n",
       "      <td>USD</td>\n",
       "      <td>255000</td>\n",
       "      <td>MX</td>\n",
       "      <td>100</td>\n",
       "      <td>MX</td>\n",
       "      <td>M</td>\n",
       "    </tr>\n",
       "    <tr>\n",
       "      <th>358</th>\n",
       "      <td>2023</td>\n",
       "      <td>SE</td>\n",
       "      <td>FT</td>\n",
       "      <td>Machine Learning Engineer</td>\n",
       "      <td>304000</td>\n",
       "      <td>USD</td>\n",
       "      <td>304000</td>\n",
       "      <td>US</td>\n",
       "      <td>100</td>\n",
       "      <td>US</td>\n",
       "      <td>M</td>\n",
       "    </tr>\n",
       "    <tr>\n",
       "      <th>3519</th>\n",
       "      <td>2021</td>\n",
       "      <td>EX</td>\n",
       "      <td>FT</td>\n",
       "      <td>Head of Data</td>\n",
       "      <td>230000</td>\n",
       "      <td>USD</td>\n",
       "      <td>230000</td>\n",
       "      <td>RU</td>\n",
       "      <td>50</td>\n",
       "      <td>RU</td>\n",
       "      <td>L</td>\n",
       "    </tr>\n",
       "    <tr>\n",
       "      <th>76</th>\n",
       "      <td>2023</td>\n",
       "      <td>SE</td>\n",
       "      <td>FT</td>\n",
       "      <td>Data Architect</td>\n",
       "      <td>280100</td>\n",
       "      <td>USD</td>\n",
       "      <td>280100</td>\n",
       "      <td>US</td>\n",
       "      <td>100</td>\n",
       "      <td>US</td>\n",
       "      <td>M</td>\n",
       "    </tr>\n",
       "    <tr>\n",
       "      <th>44</th>\n",
       "      <td>2023</td>\n",
       "      <td>SE</td>\n",
       "      <td>FT</td>\n",
       "      <td>Data Engineer</td>\n",
       "      <td>270703</td>\n",
       "      <td>USD</td>\n",
       "      <td>270703</td>\n",
       "      <td>US</td>\n",
       "      <td>0</td>\n",
       "      <td>US</td>\n",
       "      <td>M</td>\n",
       "    </tr>\n",
       "    <tr>\n",
       "      <th>2281</th>\n",
       "      <td>2022</td>\n",
       "      <td>SE</td>\n",
       "      <td>FT</td>\n",
       "      <td>Data Science Manager</td>\n",
       "      <td>299500</td>\n",
       "      <td>USD</td>\n",
       "      <td>299500</td>\n",
       "      <td>US</td>\n",
       "      <td>0</td>\n",
       "      <td>US</td>\n",
       "      <td>M</td>\n",
       "    </tr>\n",
       "    <tr>\n",
       "      <th>655</th>\n",
       "      <td>2023</td>\n",
       "      <td>SE</td>\n",
       "      <td>FT</td>\n",
       "      <td>Data Engineer</td>\n",
       "      <td>260000</td>\n",
       "      <td>USD</td>\n",
       "      <td>260000</td>\n",
       "      <td>US</td>\n",
       "      <td>0</td>\n",
       "      <td>US</td>\n",
       "      <td>M</td>\n",
       "    </tr>\n",
       "    <tr>\n",
       "      <th>3477</th>\n",
       "      <td>2022</td>\n",
       "      <td>EN</td>\n",
       "      <td>FT</td>\n",
       "      <td>Computer Vision Software Engineer</td>\n",
       "      <td>150000</td>\n",
       "      <td>USD</td>\n",
       "      <td>150000</td>\n",
       "      <td>AU</td>\n",
       "      <td>100</td>\n",
       "      <td>AU</td>\n",
       "      <td>S</td>\n",
       "    </tr>\n",
       "    <tr>\n",
       "      <th>1056</th>\n",
       "      <td>2023</td>\n",
       "      <td>SE</td>\n",
       "      <td>FT</td>\n",
       "      <td>Data Analyst</td>\n",
       "      <td>230000</td>\n",
       "      <td>USD</td>\n",
       "      <td>230000</td>\n",
       "      <td>US</td>\n",
       "      <td>0</td>\n",
       "      <td>US</td>\n",
       "      <td>M</td>\n",
       "    </tr>\n",
       "    <tr>\n",
       "      <th>461</th>\n",
       "      <td>2023</td>\n",
       "      <td>SE</td>\n",
       "      <td>FT</td>\n",
       "      <td>Data Scientist</td>\n",
       "      <td>258000</td>\n",
       "      <td>USD</td>\n",
       "      <td>258000</td>\n",
       "      <td>CA</td>\n",
       "      <td>0</td>\n",
       "      <td>CA</td>\n",
       "      <td>M</td>\n",
       "    </tr>\n",
       "    <tr>\n",
       "      <th>2844</th>\n",
       "      <td>2022</td>\n",
       "      <td>SE</td>\n",
       "      <td>FT</td>\n",
       "      <td>ETL Developer</td>\n",
       "      <td>63000</td>\n",
       "      <td>USD</td>\n",
       "      <td>63000</td>\n",
       "      <td>US</td>\n",
       "      <td>100</td>\n",
       "      <td>US</td>\n",
       "      <td>M</td>\n",
       "    </tr>\n",
       "    <tr>\n",
       "      <th>1161</th>\n",
       "      <td>2023</td>\n",
       "      <td>SE</td>\n",
       "      <td>FT</td>\n",
       "      <td>Data Engineer</td>\n",
       "      <td>259000</td>\n",
       "      <td>USD</td>\n",
       "      <td>259000</td>\n",
       "      <td>US</td>\n",
       "      <td>100</td>\n",
       "      <td>US</td>\n",
       "      <td>M</td>\n",
       "    </tr>\n",
       "  </tbody>\n",
       "</table>\n",
       "</div>"
      ],
      "text/plain": [
       "      work_year experience_level employment_type  \\\n",
       "1288       2023               SE              FT   \n",
       "1105       2023               SE              FT   \n",
       "33         2023               SE              FT   \n",
       "1116       2023               SE              FT   \n",
       "478        2023               EX              FT   \n",
       "325        2023               MI              FT   \n",
       "3387       2022               SE              FT   \n",
       "1677       2023               SE              FT   \n",
       "2009       2022               SE              FT   \n",
       "358        2023               SE              FT   \n",
       "3519       2021               EX              FT   \n",
       "76         2023               SE              FT   \n",
       "44         2023               SE              FT   \n",
       "2281       2022               SE              FT   \n",
       "655        2023               SE              FT   \n",
       "3477       2022               EN              FT   \n",
       "1056       2023               SE              FT   \n",
       "461        2023               SE              FT   \n",
       "2844       2022               SE              FT   \n",
       "1161       2023               SE              FT   \n",
       "\n",
       "                              job_title  salary salary_currency  \\\n",
       "1288                       Data Analyst  385000             USD   \n",
       "1105                     Data Scientist  370000             USD   \n",
       "33             Computer Vision Engineer  342810             USD   \n",
       "1116          Machine Learning Engineer  323300             USD   \n",
       "478            Director of Data Science  353200             USD   \n",
       "325           Machine Learning Engineer  280700             USD   \n",
       "3387                      Data Engineer   25000             USD   \n",
       "1677                     Data Scientist  297300             USD   \n",
       "2009          Machine Learning Engineer  255000             USD   \n",
       "358           Machine Learning Engineer  304000             USD   \n",
       "3519                       Head of Data  230000             USD   \n",
       "76                       Data Architect  280100             USD   \n",
       "44                        Data Engineer  270703             USD   \n",
       "2281               Data Science Manager  299500             USD   \n",
       "655                       Data Engineer  260000             USD   \n",
       "3477  Computer Vision Software Engineer  150000             USD   \n",
       "1056                       Data Analyst  230000             USD   \n",
       "461                      Data Scientist  258000             USD   \n",
       "2844                      ETL Developer   63000             USD   \n",
       "1161                      Data Engineer  259000             USD   \n",
       "\n",
       "      salary_in_usd employee_residence  remote_ratio company_location  \\\n",
       "1288         385000                 US             0               US   \n",
       "1105         370000                 US             0               US   \n",
       "33           342810                 US             0               US   \n",
       "1116         323300                 US             0               US   \n",
       "478          353200                 US             0               US   \n",
       "325          280700                 US           100               US   \n",
       "3387          25000                 US           100               US   \n",
       "1677         297300                 US           100               US   \n",
       "2009         255000                 MX           100               MX   \n",
       "358          304000                 US           100               US   \n",
       "3519         230000                 RU            50               RU   \n",
       "76           280100                 US           100               US   \n",
       "44           270703                 US             0               US   \n",
       "2281         299500                 US             0               US   \n",
       "655          260000                 US             0               US   \n",
       "3477         150000                 AU           100               AU   \n",
       "1056         230000                 US             0               US   \n",
       "461          258000                 CA             0               CA   \n",
       "2844          63000                 US           100               US   \n",
       "1161         259000                 US           100               US   \n",
       "\n",
       "     company_size  \n",
       "1288            M  \n",
       "1105            M  \n",
       "33              M  \n",
       "1116            M  \n",
       "478             M  \n",
       "325             M  \n",
       "3387            M  \n",
       "1677            M  \n",
       "2009            M  \n",
       "358             M  \n",
       "3519            L  \n",
       "76              M  \n",
       "44              M  \n",
       "2281            M  \n",
       "655             M  \n",
       "3477            S  \n",
       "1056            M  \n",
       "461             M  \n",
       "2844            M  \n",
       "1161            M  "
      ]
     },
     "execution_count": 39,
     "metadata": {},
     "output_type": "execute_result"
    }
   ],
   "source": [
    "df.iloc[ind_cat]"
   ]
  },
  {
   "cell_type": "code",
   "execution_count": 40,
   "id": "15e7a387",
   "metadata": {},
   "outputs": [
    {
     "data": {
      "text/plain": [
       "array([255632.39056911, 204710.05352933, 151189.18068483, 147339.92048166,\n",
       "       147176.26724178, 137185.33864714, 131934.8694225 , 130235.158812  ,\n",
       "       127016.7740863 , 124372.61785867, 119199.94448152, 113617.9742578 ,\n",
       "       111830.28857648, 108750.90128465, 101127.28857648, 101006.53685996,\n",
       "       100632.39056911,  99235.78542963,  97713.4291858 ,  97249.55118504])"
      ]
     },
     "execution_count": 40,
     "metadata": {},
     "output_type": "execute_result"
    }
   ],
   "source": [
    "(ind, val) = (abs(y_pred_cat - y_test).index, abs(y_pred_cat - y_test).values)\n",
    "val[np.argsort(val)[::-1][:20]]"
   ]
  },
  {
   "cell_type": "markdown",
   "id": "f3b8cfb0",
   "metadata": {},
   "source": [
    "занижает предсказания для сеньоров из US в компаниях среднего размера (зарплаты сильно выше среднего), в MX, AU; завышает для работников из NG и IN, может стоит сделать отдельный признак для сеньоров из US в компаниях среднего размера"
   ]
  },
  {
   "cell_type": "markdown",
   "id": "0bb42f2e",
   "metadata": {},
   "source": [
    "## Задание 6 (2 балла)\n",
    "\n",
    "Сравните feature importance трёх моделей с помощью shap. Как выводы можно сделать?"
   ]
  },
  {
   "cell_type": "code",
   "execution_count": 41,
   "id": "4c393328",
   "metadata": {},
   "outputs": [
    {
     "data": {
      "image/png": "[encoded data removed]",
      "text/plain": [
       "<Figure size 800x950 with 2 Axes>"
      ]
     },
     "metadata": {},
     "output_type": "display_data"
    }
   ],
   "source": [
    "explainer = shap.Explainer(xgb)\n",
    "shap_values = explainer(X_ohe)\n",
    "shap.summary_plot(shap_values, X_ohe)"
   ]
  },
  {
   "cell_type": "code",
   "execution_count": 42,
   "id": "19e3328b",
   "metadata": {},
   "outputs": [
    {
     "data": {
      "image/png": "[encoded data removed]",
      "text/plain": [
       "<Figure size 800x950 with 2 Axes>"
      ]
     },
     "metadata": {},
     "output_type": "display_data"
    }
   ],
   "source": [
    "explainer = shap.Explainer(gbm)\n",
    "shap_values = explainer(X_ohe)\n",
    "shap.summary_plot(shap_values, X_ohe)"
   ]
  },
  {
   "cell_type": "code",
   "execution_count": 43,
   "id": "fc04960e",
   "metadata": {},
   "outputs": [
    {
     "data": {
      "image/png": "[encoded data removed]",
      "text/plain": [
       "<Figure size 800x950 with 2 Axes>"
      ]
     },
     "metadata": {},
     "output_type": "display_data"
    }
   ],
   "source": [
    "explainer = shap.Explainer(cat)\n",
    "shap_values = explainer(X_ohe)\n",
    "shap.summary_plot(shap_values, X_ohe)"
   ]
  },
  {
   "cell_type": "markdown",
   "id": "7a639710",
   "metadata": {},
   "source": [
    "положительно на зарплату влияет нахождение работника в US, опыт SE или EX, должность Research Scientist, при этом большой размер компании, доля работы удалённо неоднозначно влияют на зарплату"
   ]
  },
  {
   "cell_type": "markdown",
   "id": "348b42f3",
   "metadata": {},
   "source": [
    "## Задание 7 (2 балла)\n",
    "Придумайте признаки для улучшения качества моделей на основе предыдущего пункта. Как вам кажется какими признаками можно улучшить качетсво каждой модели? Реализуйте признаки и проверьте улучшилось ли качество моделей. Полный балл за задание ставится даже при отсутствии улучшения качества модели, важно попробовать проверить свои гипотезы и сделать выводы"
   ]
  },
  {
   "cell_type": "code",
   "execution_count": 44,
   "id": "42fd8e34",
   "metadata": {},
   "outputs": [
    {
     "data": {
      "text/plain": [
       "xgb    (0.38, 49318.38)\n",
       "gbm     (0.4, 50480.47)\n",
       "cat    (0.37, 49585.84)\n",
       "Name: ohe, dtype: object"
      ]
     },
     "execution_count": 44,
     "metadata": {},
     "output_type": "execute_result"
    }
   ],
   "source": [
    "pd.DataFrame.from_dict(d, orient='index', columns=[\"ohe\", \"le\", \"te\"])[\"ohe\"]"
   ]
  },
  {
   "cell_type": "code",
   "execution_count": 45,
   "id": "c003c127",
   "metadata": {},
   "outputs": [],
   "source": [
    "data = X_ohe.copy()\n",
    "data_test = X_test_ohe.copy()\n",
    "data[\"SE_in_US\"] = data[\"experience_level_SE\"] * data[\"employee_residence_US\"]\n",
    "data_test[\"SE_in_US\"] = data_test[\"experience_level_SE\"] * data_test[\"employee_residence_US\"]\n",
    "\n",
    "data[\"EX_in_US\"] = data[\"experience_level_EX\"] * data[\"employee_residence_US\"]\n",
    "data_test[\"EX_in_US\"] = data_test[\"experience_level_EX\"] * data_test[\"employee_residence_US\"]"
   ]
  },
  {
   "cell_type": "code",
   "execution_count": 46,
   "id": "e66c1639",
   "metadata": {},
   "outputs": [
    {
     "name": "stdout",
     "output_type": "stream",
     "text": [
      "[LightGBM] [Warning] Found whitespace in feature_names, replace with underlines\n"
     ]
    }
   ],
   "source": [
    "xgb = XGBRegressor(objective='reg:tweedie', random_state=42)\n",
    "xgb.fit(data, y)\n",
    "y_pred_xgb = xgb.predict(data_test)\n",
    "\n",
    "\n",
    "gbm = lgb.LGBMRegressor(verbose=0, objective=\"poisson\", random_state=42)\n",
    "gbm.fit(data, y)\n",
    "y_pred_gbm = gbm.predict(data_test)\n",
    "\n",
    "\n",
    "cat = CatBoostRegressor(loss_function='Tweedie:variance_power=1.9', random_state=42)\n",
    "cat.fit(data, y, verbose=False)\n",
    "y_pred_cat = cat.predict(data_test)"
   ]
  },
  {
   "cell_type": "code",
   "execution_count": 47,
   "id": "4cca7b63",
   "metadata": {},
   "outputs": [
    {
     "name": "stdout",
     "output_type": "stream",
     "text": [
      "MAPE: 0.38, RMSE: 49665.05\n",
      "MAPE: 0.4, RMSE: 50477.28\n",
      "MAPE: 0.36, RMSE: 49569.77\n"
     ]
    }
   ],
   "source": [
    "print(f\"MAPE: {round(mean_absolute_percentage_error(y_test, y_pred_xgb), 2)}, RMSE: {round(mean_squared_error(y_test, y_pred_xgb)**0.5, 2)}\")\n",
    "print(f\"MAPE: {round(mean_absolute_percentage_error(y_test, y_pred_gbm), 2)}, RMSE: {round(mean_squared_error(y_test, y_pred_gbm)**0.5, 2)}\")\n",
    "print(f\"MAPE: {round(mean_absolute_percentage_error(y_test, y_pred_cat), 2)}, RMSE: {round(mean_squared_error(y_test, y_pred_cat)**0.5, 2)}\")"
   ]
  },
  {
   "cell_type": "markdown",
   "id": "bc61cd6a",
   "metadata": {},
   "source": [
    "нет значительных изменений"
   ]
  },
  {
   "cell_type": "code",
   "execution_count": 48,
   "id": "16002fe0",
   "metadata": {},
   "outputs": [],
   "source": [
    "data = X_ohe.copy()\n",
    "data_test = X_test_ohe.copy()\n",
    "data[\"SE_in_US\"] = data[\"experience_level_SE\"] * data[\"employee_residence_US\"] * data[\"company_size_M\"]\n",
    "data_test[\"SE_in_US\"] = data_test[\"experience_level_SE\"] * data_test[\"employee_residence_US\"] * data[\"company_size_M\"]\n",
    "\n",
    "data[\"EX_in_US\"] = data[\"experience_level_EX\"] * data[\"employee_residence_US\"] * data[\"company_size_M\"]\n",
    "data_test[\"EX_in_US\"] = data_test[\"experience_level_EX\"] * data_test[\"employee_residence_US\"] * data[\"company_size_M\"]"
   ]
  },
  {
   "cell_type": "code",
   "execution_count": 49,
   "id": "48978501",
   "metadata": {},
   "outputs": [
    {
     "name": "stdout",
     "output_type": "stream",
     "text": [
      "[LightGBM] [Warning] Found whitespace in feature_names, replace with underlines\n"
     ]
    }
   ],
   "source": [
    "xgb = XGBRegressor(objective='reg:tweedie', random_state=42)\n",
    "xgb.fit(data, y)\n",
    "y_pred_xgb = xgb.predict(data_test)\n",
    "\n",
    "\n",
    "gbm = lgb.LGBMRegressor(verbose=0, objective=\"poisson\", random_state=42)\n",
    "gbm.fit(data, y)\n",
    "y_pred_gbm = gbm.predict(data_test)\n",
    "\n",
    "\n",
    "cat = CatBoostRegressor(loss_function='Tweedie:variance_power=1.9', random_state=42)\n",
    "cat.fit(data, y, verbose=False)\n",
    "y_pred_cat = cat.predict(data_test)"
   ]
  },
  {
   "cell_type": "code",
   "execution_count": 50,
   "id": "38a96893",
   "metadata": {},
   "outputs": [
    {
     "name": "stdout",
     "output_type": "stream",
     "text": [
      "MAPE: 0.38, RMSE: 49296.56\n",
      "MAPE: 0.4, RMSE: 50543.93\n",
      "MAPE: 0.37, RMSE: 50433.62\n"
     ]
    }
   ],
   "source": [
    "print(f\"MAPE: {round(mean_absolute_percentage_error(y_test, y_pred_xgb), 2)}, RMSE: {round(mean_squared_error(y_test, y_pred_xgb)**0.5, 2)}\")\n",
    "print(f\"MAPE: {round(mean_absolute_percentage_error(y_test, y_pred_gbm), 2)}, RMSE: {round(mean_squared_error(y_test, y_pred_gbm)**0.5, 2)}\")\n",
    "print(f\"MAPE: {round(mean_absolute_percentage_error(y_test, y_pred_cat), 2)}, RMSE: {round(mean_squared_error(y_test, y_pred_cat)**0.5, 2)}\")"
   ]
  },
  {
   "cell_type": "markdown",
   "id": "db76616b",
   "metadata": {},
   "source": [
    "на XGBOOST повысилось незначительно качество"
   ]
  },
  {
   "cell_type": "code",
   "execution_count": 51,
   "id": "75c87812",
   "metadata": {},
   "outputs": [],
   "source": [
    "data[\"foreigner\"] = df[\"employee_residence\"] != df[\"company_location\"] \n",
    "data_test[\"foreigner\"] = df[\"employee_residence\"] != df[\"company_location\"]"
   ]
  },
  {
   "cell_type": "code",
   "execution_count": 52,
   "id": "bc7f6c02",
   "metadata": {},
   "outputs": [
    {
     "name": "stdout",
     "output_type": "stream",
     "text": [
      "[LightGBM] [Warning] Found whitespace in feature_names, replace with underlines\n"
     ]
    }
   ],
   "source": [
    "xgb = XGBRegressor(objective='reg:tweedie', random_state=42)\n",
    "xgb.fit(data, y)\n",
    "y_pred_xgb = xgb.predict(data_test)\n",
    "\n",
    "\n",
    "gbm = lgb.LGBMRegressor(verbose=0, objective=\"poisson\", random_state=42)\n",
    "gbm.fit(data, y)\n",
    "y_pred_gbm = gbm.predict(data_test)\n",
    "\n",
    "\n",
    "cat = CatBoostRegressor(loss_function='Tweedie:variance_power=1.9', random_state=42)\n",
    "cat.fit(data, y, verbose=False)\n",
    "y_pred_cat = cat.predict(data_test)"
   ]
  },
  {
   "cell_type": "code",
   "execution_count": 53,
   "id": "4c7c6156",
   "metadata": {},
   "outputs": [
    {
     "name": "stdout",
     "output_type": "stream",
     "text": [
      "MAPE: 0.38, RMSE: 49675.55\n",
      "MAPE: 0.4, RMSE: 50622.02\n",
      "MAPE: 0.37, RMSE: 49938.56\n"
     ]
    }
   ],
   "source": [
    "print(f\"MAPE: {round(mean_absolute_percentage_error(y_test, y_pred_xgb), 2)}, RMSE: {round(mean_squared_error(y_test, y_pred_xgb)**0.5, 2)}\")\n",
    "print(f\"MAPE: {round(mean_absolute_percentage_error(y_test, y_pred_gbm), 2)}, RMSE: {round(mean_squared_error(y_test, y_pred_gbm)**0.5, 2)}\")\n",
    "print(f\"MAPE: {round(mean_absolute_percentage_error(y_test, y_pred_cat), 2)}, RMSE: {round(mean_squared_error(y_test, y_pred_cat)**0.5, 2)}\")"
   ]
  },
  {
   "cell_type": "markdown",
   "id": "fed640f2",
   "metadata": {},
   "source": [
    "добавление информации о том, иностранец ли сотрудник, только понизило качество"
   ]
  },
  {
   "cell_type": "markdown",
   "id": "cf5e4e24",
   "metadata": {},
   "source": [
    "## Задание 8 (3 балла)\n",
    "Напишите функцию для оптимизации гиперпараметров трёх моделей бустинга: xgboost, catboost и lightgbm. Функция должна работать максимально эффективно по времени и качеству (соответственно, полный перебор - самый тупой вариант)\n",
    "\n",
    "В случае Catboost, используйте pool для передачи данных в модель с указанием какие признаки категориальные, а какие нет с помощью параметры cat_features.\n",
    "\n",
    "Подберите для каждой из моделей лучшие гиперпараметры. "
   ]
  },
  {
   "cell_type": "markdown",
   "id": "bcda134f",
   "metadata": {},
   "source": [
    "**по алгоритму из семинара:**\n",
    "\n",
    "Выбираем относительно большую learning_rate ( 𝜂∈[0.05,0.3]\n",
    " ), подбираем оптимальное число деревьев для выбранного  𝜂\n",
    " \n",
    "Настраиваем параметры деревьев, начиная с самых значимых \n",
    "\n",
    "Уменьшаем learning_rate, пропорционально увеличиваем число деревьев\n",
    "\n",
    "**функция тоже на основе функции modelfit из семинара**"
   ]
  },
  {
   "cell_type": "code",
   "execution_count": 54,
   "id": "ecb623d4",
   "metadata": {},
   "outputs": [],
   "source": [
    "def xgb_params(model, X_train, y_train):\n",
    "        xgtrain = xgboost.DMatrix(X_train.values, label=y_train.values)\n",
    "        cvresult = xgboost.cv(\n",
    "            model.get_xgb_params(),\n",
    "            xgtrain,\n",
    "            num_boost_round=model.get_params()[\"n_estimators\"],\n",
    "            nfold=5,\n",
    "            metrics=\"rmse\",\n",
    "            early_stopping_rounds=50\n",
    "        )\n",
    "        model.set_params(n_estimators=cvresult.shape[0])\n",
    "        \n",
    "        params = {\"max_depth\": range(2, 10)}\n",
    "        gs  = GridSearchCV(\n",
    "        estimator=model, param_grid=params, scoring=\"neg_root_mean_squared_error\", n_jobs=-1, cv=5)\n",
    "\n",
    "        gs.fit(X_train, y_train)\n",
    "\n",
    "        model.set_params(max_depth=gs.best_params_[\"max_depth\"])\n",
    "        \n",
    "        params = {\"subsample\": np.arange(0.1, 1, 0.1)}\n",
    "        gs  = GridSearchCV(\n",
    "        estimator=model, param_grid=params, scoring=\"neg_root_mean_squared_error\", n_jobs=-1, cv=5)\n",
    "\n",
    "        gs.fit(X_train, y_train)\n",
    "\n",
    "        model.set_params(subsample=gs.best_params_[\"subsample\"])\n",
    "        \n",
    "        params = {\"reg_lambda\": [0.1, 1, 10, 100]}\n",
    "        gs  = GridSearchCV(\n",
    "        estimator=model, param_grid=params, scoring=\"neg_root_mean_squared_error\", n_jobs=-1, cv=5)\n",
    "\n",
    "        gs.fit(X_train, y_train)\n",
    "\n",
    "        model.set_params(reg_lambda=gs.best_params_[\"reg_lambda\"])"
   ]
  },
  {
   "cell_type": "code",
   "execution_count": 55,
   "id": "4e6c891a",
   "metadata": {},
   "outputs": [],
   "source": [
    "xgb = XGBRegressor(\n",
    "    learning_rate=0.3,\n",
    "    n_estimators=150,\n",
    "    objective='reg:tweedie',\n",
    "    random_state=42,\n",
    "    nthread=-1)\n",
    "xgb_params(xgb, X_ohe, y)"
   ]
  },
  {
   "cell_type": "code",
   "execution_count": 56,
   "id": "349c01ca",
   "metadata": {},
   "outputs": [
    {
     "name": "stdout",
     "output_type": "stream",
     "text": [
      "{'objective': 'reg:tweedie', 'base_score': None, 'booster': None, 'callbacks': None, 'colsample_bylevel': None, 'colsample_bynode': None, 'colsample_bytree': None, 'device': None, 'early_stopping_rounds': None, 'enable_categorical': False, 'eval_metric': None, 'feature_types': None, 'gamma': None, 'grow_policy': None, 'importance_type': None, 'interaction_constraints': None, 'learning_rate': 0.003, 'max_bin': None, 'max_cat_threshold': None, 'max_cat_to_onehot': None, 'max_delta_step': None, 'max_depth': 5, 'max_leaves': None, 'min_child_weight': None, 'missing': nan, 'monotone_constraints': None, 'multi_strategy': None, 'n_estimators': 4800, 'n_jobs': None, 'num_parallel_tree': None, 'random_state': 42, 'reg_alpha': None, 'reg_lambda': 1, 'sampling_method': None, 'scale_pos_weight': None, 'subsample': 0.6, 'tree_method': None, 'validate_parameters': None, 'verbosity': None, 'nthread': -1}\n",
      "MAPE: 0.38, RMSE: 49714.81\n"
     ]
    }
   ],
   "source": [
    "xgb.set_params(learning_rate=0.003, n_estimators=xgb.get_params()[\"n_estimators\"]*100)\n",
    "print(xgb.get_params())\n",
    "xgb.fit(X_ohe, y)\n",
    "y_pred_xgb = xgb.predict(X_test_ohe)\n",
    "\n",
    "print(f\"MAPE: {round(mean_absolute_percentage_error(y_test, y_pred_xgb), 2)}, RMSE: {round(mean_squared_error(y_test, y_pred_xgb)**0.5, 2)}\")"
   ]
  },
  {
   "cell_type": "code",
   "execution_count": 57,
   "id": "2671ab78",
   "metadata": {},
   "outputs": [],
   "source": [
    "cat = [\"experience_level\", \"employment_type\", \"job_title\", \"salary_currency\", \"employee_residence\", \n",
    "                        \"company_location\", \"company_size\"]\n",
    "catmod = CatBoostRegressor(loss_function='Tweedie:variance_power=1.9', cat_features=cat, random_state=42)\n",
    "catmod.fit(X, y, verbose=False)\n",
    "y_pred_cat = catmod.predict(X_test)"
   ]
  },
  {
   "cell_type": "code",
   "execution_count": 58,
   "id": "6c133b06",
   "metadata": {},
   "outputs": [
    {
     "name": "stdout",
     "output_type": "stream",
     "text": [
      "MAPE: 0.4, RMSE: 50562.55\n"
     ]
    }
   ],
   "source": [
    "print(f\"MAPE: {round(mean_absolute_percentage_error(y_test, y_pred_cat), 2)}, RMSE: {round(mean_squared_error(y_test, y_pred_cat)**0.5, 2)}\")"
   ]
  },
  {
   "cell_type": "markdown",
   "id": "b81ea32e",
   "metadata": {},
   "source": [
    "## Задание 9 (1 балл)"
   ]
  },
  {
   "cell_type": "markdown",
   "id": "ca79cf80",
   "metadata": {},
   "source": [
    "Сделайте выводы про модели бустинга, какая из моделей показала лучший результат по качеству, скорости обучения и скорости предсказания"
   ]
  },
  {
   "cell_type": "markdown",
   "id": "d0daa5bb",
   "metadata": {},
   "source": [
    "все модели без настройки справляются c примерно одинаковым качеством, самая быстрая модель -- LightGBM, CatBoost работает значительно дольше, все модели требуют аккуратного подбора параметров, CatBoost удобен тем, что можно не кодировать категориальные переменные"
   ]
  }
 ],
 "metadata": {
  "kernelspec": {
   "display_name": "Python 3 (ipykernel)",
   "language": "python",
   "name": "python3"
  },
  "language_info": {
   "codemirror_mode": {
    "name": "ipython",
    "version": 3
   },
   "file_extension": ".py",
   "mimetype": "text/x-python",
   "name": "python",
   "nbconvert_exporter": "python",
   "pygments_lexer": "ipython3",
   "version": "3.12.1"
  }
 },
 "nbformat": 4,
 "nbformat_minor": 5
}
